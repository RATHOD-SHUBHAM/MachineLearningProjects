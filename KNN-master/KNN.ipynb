{
 "cells": [
  {
   "cell_type": "code",
   "execution_count": 1,
   "metadata": {},
   "outputs": [],
   "source": [
    "import csv"
   ]
  },
  {
   "cell_type": "code",
   "execution_count": 2,
   "metadata": {},
   "outputs": [],
   "source": [
    "import pandas as pd"
   ]
  },
  {
   "cell_type": "code",
   "execution_count": 3,
   "metadata": {},
   "outputs": [],
   "source": [
    "from operator import itemgetter"
   ]
  },
  {
   "cell_type": "code",
   "execution_count": 4,
   "metadata": {},
   "outputs": [],
   "source": [
    "def difference(test_set,train_set):\n",
    "    #print(\"\\n the test set is : \\n\",test_set)\n",
    "    #print(\"\\n training set is : \\n\",train_set)\n",
    "    if (train_set == test_set):                  # |x_{i} - y_{i} |  \n",
    "        #print(\"\\n the test set is : \\n\",test_set)\n",
    "        #print(\"\\n training set is : \\n\",train_set)\n",
    "        return 0   #x = y ⟹ D = 0 \n",
    "    else:\n",
    "        return 1    #x ne y D = 1"
   ]
  },
  {
   "cell_type": "code",
   "execution_count": 5,
   "metadata": {},
   "outputs": [],
   "source": [
    "def euclideanDistance(instance1, instance2, length):\n",
    "    distance = 0\n",
    "    for x in range(length):\n",
    "        distance += pow((instance1[x] - instance2[x]), 2)\n",
    "    return math.sqrt(distance)"
   ]
  },
  {
   "cell_type": "code",
   "execution_count": 6,
   "metadata": {},
   "outputs": [],
   "source": [
    "def Hamming_distance(test_set,train_set):\n",
    "    #print(\"\\n test_set for hamming_distance is:  \\n\",test_set)\n",
    "    #print(\"\\n train_set for hamming_distance is:  \\n\",train_set)\n",
    "    \n",
    "    distance = 0\n",
    "    \n",
    "    length_test_set = len(test_set)   #5 for 1 iteration -- list' object cannot be interpreted as an integer\n",
    "    #print(\"\\nlength of test_set is : \\n\",length_test_set)\n",
    "    #print(\"\\n the test set is : \\n\",test_set)  #x[i[j]]\n",
    "    #print(\"\\n training set is : \\n\",train_set)\n",
    "    for x in range (length_test_set):   \n",
    "        #print(x)\n",
    "        \n",
    "        distance += difference(test_set[x],train_set[x])\n",
    "    #print(\"the distance is : \",distance)\n",
    "    return distance\n",
    "        "
   ]
  },
  {
   "cell_type": "code",
   "execution_count": 7,
   "metadata": {},
   "outputs": [],
   "source": [
    "def neighbour(train_set,test_set,k):\n",
    "    distances = []    #initialize variable\n",
    "    #print(\"\\ntraining set passed is : \\n\",train_set)\n",
    "    #print(\"\\n The passed test_set is :  \\n\",test_set)\n",
    "    \n",
    "    length_train_set = len(train_set)\n",
    "    #print(\"\\n length of training set is : \\n\",length_train_set)\n",
    "    \n",
    "    for x in range (length_train_set):\n",
    "        #print(\"\\n train_set for range o-7 : \\n\",train_set[x])       #different set when x range from 0 to 7\n",
    "        distance = Hamming_distance(test_set,train_set[x])        # x=0,human, x=1 python and so on till end #x[i]\n",
    "        distances.append((train_set[x], distance))      #appending training data and distance\n",
    "    #print(\"the appended elements and distance is : \",distances)\n",
    "    distances.sort(key = itemgetter(1))  #distance[train set,distance]  ...sort based on the distance\n",
    "    print(\"\\n The Neighbours with the distances are : \\n\",distances)\n",
    "    #return distance\n",
    "    \n",
    "    nearest_neighbour = [] # will hold the nearest training set\n",
    "    for x in range(k):     # will  run for the three nearest neighbour\n",
    "        nearest_neighbour.append(distances[x][0])\n",
    "    print(\"\\n the k nearest neighbour are : \\n\",nearest_neighbour)    #this part will go to neighbours\n",
    "    return nearest_neighbour"
   ]
  },
  {
   "cell_type": "code",
   "execution_count": 8,
   "metadata": {},
   "outputs": [],
   "source": [
    "def main():\n",
    "    train = pd.read_csv(\"train_data.csv\")   #reading training file\n",
    "    #print(\"the data in trainig file is : \\n\",train)\n",
    "    #print(\"\\nlength of training file is : \\n\",len(train))\n",
    "    \n",
    "    test = pd.read_csv(\"test_data.csv\")   #reading test file\n",
    "    #print(\"\\nthe data in test file is : \\n\",test)\n",
    "    #print(\"\\nlength of testing file is : \\n\",len(test))\n",
    "    \n",
    "    train_set = train.values.tolist()             #convert dataframe into list\n",
    "    #print(\"\\ntraining set is : \\n\",train_set)\n",
    "    #print(\"\\nlength of train_set is : \\n\",len(train_set))\n",
    "    \n",
    "    test_set = test.values.tolist()  #concert dataframe into list\n",
    "    #print(\"\\ntest set is : \\n\",test_set)\n",
    "    \n",
    "    length_test_set = len(test_set)    \n",
    "    #print(\"\\n length of testing_set is : \\n\",length_test_set)\n",
    "    \n",
    "    k = int(input(\"\\nenter the number of neighbour : \"))   #nearest neighbour\n",
    "    \n",
    "    for x in range (length_test_set):  #iterarte for x = 0 , x < 1 #we cant just pass a list to the for loop. so we pass the length\n",
    "        neighbours = neighbour(train_set,test_set[x],k)\n",
    "#         print(\"\\n the neighbours are : \\n\",neighbours)\n",
    "    \n",
    "    \n",
    "    neighbour_class = []\n",
    "    for key,values in enumerate(neighbours):\n",
    "        neighbour_class.append(neighbours[key][len(neighbours[0])-1]) #key is the index value\n",
    "    print(\"\\n neighbour_class is : \\n\",neighbour_class)\n",
    "    \n",
    "    neighbour_class_counter = []\n",
    "    for x in set(neighbour_class):       #set will remove duplicate value\n",
    "        neighbour_class_counter.append([x , neighbour_class.count(x)]) #reptile,2  # dot count will return count.\n",
    "    print(\"\\n the neighbour_class_counter is \\n \",neighbour_class_counter)\n",
    "    \n",
    "    neighbour_class_counter.sort(key = itemgetter(1))\n",
    "    print(\"\\n the sorted neighbour_class_counter is :  \\n\",neighbour_class_counter)\n",
    "        \n",
    "    prediction = []\n",
    "    prediction.append(max(neighbour_class_counter,key = itemgetter(1))[0])\n",
    "    \n",
    "    print(\"\\n it belongs to the class of : \\n\",prediction)\n",
    "#     prediction.append(neighbour_class_counter[len(neighbour_class_counter)-1])\n",
    "    \n",
    "#     for i in prediction:\n",
    "#         print(i[0])\n",
    "#     prediction = st.mode(neighbour_class) #mode is the highest no of time it repeates\n",
    "    \n",
    "#     print(\"\\n the classes it belongs to is : \\n\",prediction)\n",
    "\n",
    "    \n",
    "    \n",
    "        \n",
    "    \n"
   ]
  },
  {
   "cell_type": "code",
   "execution_count": 9,
   "metadata": {},
   "outputs": [
    {
     "name": "stdout",
     "output_type": "stream",
     "text": [
      "\n",
      "enter the number of neighbour : 7\n",
      "\n",
      " The Neighbours with the distances are : \n",
      " [(['python', 'cold-blooded', 'scales', 'no', 'no', 'yes', 'reptile'], 2), (['frog', 'cold-blooded', 'none', 'no', 'yes', 'yes', 'amphibian'], 2), (['komodo-dragon', 'cold-blooded', 'scales', 'no', 'yes', 'no', 'reptile'], 2), (['mon', 'cold-blooded', 'scales', 'no', 'no', 'no', 'fish'], 3), (['bat', 'warm-blooded', 'hair', 'yes', 'yes', 'yes', 'mammal'], 4), (['pigeon', 'warm-blooded', 'feathers', 'no', 'yes', 'no', 'bird'], 4), (['human', 'warm-blooded', 'hair', 'yes', 'yes', 'no', 'mammal'], 5), (['whale', 'warm-blooded', 'hair', 'yes', 'no', 'no', 'mammal'], 6)]\n",
      "\n",
      " the k nearest neighbour are : \n",
      " [['python', 'cold-blooded', 'scales', 'no', 'no', 'yes', 'reptile'], ['frog', 'cold-blooded', 'none', 'no', 'yes', 'yes', 'amphibian'], ['komodo-dragon', 'cold-blooded', 'scales', 'no', 'yes', 'no', 'reptile'], ['mon', 'cold-blooded', 'scales', 'no', 'no', 'no', 'fish'], ['bat', 'warm-blooded', 'hair', 'yes', 'yes', 'yes', 'mammal'], ['pigeon', 'warm-blooded', 'feathers', 'no', 'yes', 'no', 'bird'], ['human', 'warm-blooded', 'hair', 'yes', 'yes', 'no', 'mammal']]\n",
      "\n",
      " neighbour_class is : \n",
      " ['reptile', 'amphibian', 'reptile', 'fish', 'mammal', 'bird', 'mammal']\n",
      "\n",
      " the neighbour_class_counter is \n",
      "  [['reptile', 2], ['fish', 1], ['bird', 1], ['amphibian', 1], ['mammal', 2]]\n",
      "\n",
      " the sorted neighbour_class_counter is :  \n",
      " [['fish', 1], ['bird', 1], ['amphibian', 1], ['reptile', 2], ['mammal', 2]]\n",
      "\n",
      " it belongs to the class of : \n",
      " ['reptile']\n"
     ]
    }
   ],
   "source": [
    "if __name__ == '__main__':\n",
    "    main()"
   ]
  },
  {
   "cell_type": "code",
   "execution_count": null,
   "metadata": {},
   "outputs": [],
   "source": []
  }
 ],
 "metadata": {
  "kernelspec": {
   "display_name": "Python 3",
   "language": "python",
   "name": "python3"
  },
  "language_info": {
   "codemirror_mode": {
    "name": "ipython",
    "version": 3
   },
   "file_extension": ".py",
   "mimetype": "text/x-python",
   "name": "python",
   "nbconvert_exporter": "python",
   "pygments_lexer": "ipython3",
   "version": "3.7.4"
  }
 },
 "nbformat": 4,
 "nbformat_minor": 2
}
