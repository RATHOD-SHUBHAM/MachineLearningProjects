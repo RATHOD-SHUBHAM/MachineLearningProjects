{
 "cells": [
  {
   "cell_type": "code",
   "execution_count": 1,
   "metadata": {},
   "outputs": [],
   "source": [
    "from sklearn.naive_bayes import MultinomialNB"
   ]
  },
  {
   "cell_type": "code",
   "execution_count": 2,
   "metadata": {},
   "outputs": [],
   "source": [
    "from sklearn import preprocessing"
   ]
  },
  {
   "cell_type": "code",
   "execution_count": 3,
   "metadata": {},
   "outputs": [],
   "source": [
    "import pandas as pd"
   ]
  },
  {
   "cell_type": "code",
   "execution_count": 4,
   "metadata": {},
   "outputs": [],
   "source": [
    "def seperate_class(train_set):\n",
    "    classes = []\n",
    "    for key, value in enumerate(train_set):\n",
    "#         print(train_set[key])\n",
    "        classes.append(train_set[key].pop())      #pop out the class\n",
    "#     print(\"\\n training_set without classes is :  \\n\",classes)\n",
    "    return train_set,classes"
   ]
  },
  {
   "cell_type": "code",
   "execution_count": 5,
   "metadata": {},
   "outputs": [],
   "source": [
    "def transpose(train_set):\n",
    "    transposed_list = list(map(list,zip(*train_set))) # this will convert the row into column\n",
    "    return transposed_list"
   ]
  },
  {
   "cell_type": "code",
   "execution_count": 6,
   "metadata": {},
   "outputs": [],
   "source": [
    "def encoding_data(train_set,classes):\n",
    "    transposed_data_set = transpose(train_set)     #transpose the data\n",
    "    \n",
    "    #encoding the transpoded value\n",
    "    encode = preprocessing.LabelEncoder()   # initialising the encoder\n",
    "    \n",
    "    encoded_data_set = []      \n",
    "    for key,values in enumerate(transposed_data_set):\n",
    "#         print(transposed_train_set[key])\n",
    "        encoded_data_set.append(list(encode.fit_transform(values)))  #encode the training set, it will take the encoded value\n",
    "        encoded_classes = list(encode.fit_transform(classes))  #encode for class, it will take the encoded value\n",
    "#     print(encoded_train_set)\n",
    "#     print(encoded_classes)\n",
    "\n",
    "# Transpose the data again before \n",
    "    transposed_encoded_data_set = transpose(encoded_data_set)\n",
    "\n",
    "    return transposed_encoded_data_set,encoded_classes\n"
   ]
  },
  {
   "cell_type": "code",
   "execution_count": 7,
   "metadata": {},
   "outputs": [],
   "source": [
    "def main():\n",
    "    train = pd.read_csv(\"train_data.csv\")\n",
    "    train_set = train.values.tolist()\n",
    "    \n",
    "    test = pd.read_csv(\"test_data.csv\")\n",
    "    test_set = test.values.tolist()\n",
    "    \n",
    "#     print(\"\\n the training set is : \\n\",train_set)\n",
    "#     print(\"\\n the testing set is :  \\n\",test_set)\n",
    "    \n",
    "    # step 1 = seperate class\n",
    "    train_set,classes = seperate_class(train_set)\n",
    "    \n",
    "    # step 2 =  add test_set to train_set\n",
    "    for i in test_set:\n",
    "        #print(len(test_set))          #len = 1\n",
    "        \n",
    "        train_set.append(i)     #test set = test_set + training_set\n",
    "    \n",
    "    #step 3 = Encoding Data\n",
    "    encoded_data_set,encoded_classes = encoding_data(train_set,classes)\n",
    "    \n",
    "    # step 4 = reextract the testSet from the bottom\n",
    "    encoded_test_set = encoded_data_set.pop() #pop will pop out the first element as it will be test\n",
    "    \n",
    "    # FITTING & PREDICTING\n",
    "    clf = MultinomialNB()\n",
    "    clf.fit(encoded_data_set,encoded_classes)    #fit will create a model\n",
    "    prediction_code = clf.predict([encoded_test_set])     #it will pass parameter to the formula and bring it out\n",
    "    print(\"\\n Prediction are :  \\n\")\n",
    "    print(classes[encoded_classes.index(prediction_code)])\n"
   ]
  },
  {
   "cell_type": "code",
   "execution_count": 8,
   "metadata": {},
   "outputs": [
    {
     "name": "stdout",
     "output_type": "stream",
     "text": [
      "\n",
      " Prediction are :  \n",
      "\n",
      "reptile\n"
     ]
    }
   ],
   "source": [
    "if __name__ == '__main__':\n",
    "    main()"
   ]
  }
 ],
 "metadata": {
  "kernelspec": {
   "display_name": "Python 3",
   "language": "python",
   "name": "python3"
  },
  "language_info": {
   "codemirror_mode": {
    "name": "ipython",
    "version": 3
   },
   "file_extension": ".py",
   "mimetype": "text/x-python",
   "name": "python",
   "nbconvert_exporter": "python",
   "pygments_lexer": "ipython3",
   "version": "3.7.3"
  }
 },
 "nbformat": 4,
 "nbformat_minor": 2
}
